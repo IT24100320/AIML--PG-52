{
  "nbformat": 4,
  "nbformat_minor": 0,
  "metadata": {
    "colab": {
      "provenance": []
    },
    "kernelspec": {
      "name": "python3",
      "display_name": "Python 3"
    },
    "language_info": {
      "name": "python"
    }
  },
  "cells": [
    {
      "cell_type": "code",
      "execution_count": null,
      "metadata": {
        "id": "U0a4GxgOCZ2H"
      },
      "outputs": [],
      "source": []
    },
    {
      "cell_type": "markdown",
      "source": [
        "## **import libraries**"
      ],
      "metadata": {
        "id": "pjYJxapvC0xa"
      }
    },
    {
      "cell_type": "code",
      "source": [
        "import pandas as pd\n",
        "from sklearn.preprocessing import StandardScaler\n",
        "from sklearn.cluster import KMeans\n",
        "from sklearn.impute import SimpleImputer\n",
        "from sklearn.preprocessing import OneHotEncoder\n",
        "from sklearn.compose import ColumnTransformer\n",
        "from sklearn.pipeline import Pipeline"
      ],
      "metadata": {
        "id": "-q97UPixDRZU"
      },
      "execution_count": 2,
      "outputs": []
    },
    {
      "cell_type": "markdown",
      "source": [
        "## **Load the dataset**"
      ],
      "metadata": {
        "id": "F_KlKPovDikc"
      }
    },
    {
      "cell_type": "code",
      "source": [
        "df = pd.read_csv('Online Retail.csv', encoding='latin-1')\n"
      ],
      "metadata": {
        "id": "Qhqqb78NDsI2"
      },
      "execution_count": 3,
      "outputs": []
    },
    {
      "cell_type": "markdown",
      "source": [
        "#  **preprocessing technique**"
      ],
      "metadata": {
        "id": "kY6Dzu87DyB5"
      }
    },
    {
      "cell_type": "markdown",
      "source": [
        "# 1) Data Cleaning\n"
      ],
      "metadata": {
        "id": "QK7c-P6PD3d-"
      }
    },
    {
      "cell_type": "markdown",
      "source": [
        "## 1.1 Identify Missing Values"
      ],
      "metadata": {
        "id": "AX8ri-PMD764"
      }
    },
    {
      "cell_type": "code",
      "source": [
        "# check the any missing values have\n",
        "df.isnull().sum()"
      ],
      "metadata": {
        "colab": {
          "base_uri": "https://localhost:8080/",
          "height": 335
        },
        "id": "HQpTyj_tEBMt",
        "outputId": "7e5489b6-cb95-41f9-f437-03d73cbf2b9e"
      },
      "execution_count": 4,
      "outputs": [
        {
          "output_type": "execute_result",
          "data": {
            "text/plain": [
              "InvoiceNo           0\n",
              "StockCode           0\n",
              "Description      1454\n",
              "Quantity            0\n",
              "InvoiceDate         0\n",
              "UnitPrice           0\n",
              "CustomerID     135080\n",
              "Country             0\n",
              "dtype: int64"
            ],
            "text/html": [
              "<div>\n",
              "<style scoped>\n",
              "    .dataframe tbody tr th:only-of-type {\n",
              "        vertical-align: middle;\n",
              "    }\n",
              "\n",
              "    .dataframe tbody tr th {\n",
              "        vertical-align: top;\n",
              "    }\n",
              "\n",
              "    .dataframe thead th {\n",
              "        text-align: right;\n",
              "    }\n",
              "</style>\n",
              "<table border=\"1\" class=\"dataframe\">\n",
              "  <thead>\n",
              "    <tr style=\"text-align: right;\">\n",
              "      <th></th>\n",
              "      <th>0</th>\n",
              "    </tr>\n",
              "  </thead>\n",
              "  <tbody>\n",
              "    <tr>\n",
              "      <th>InvoiceNo</th>\n",
              "      <td>0</td>\n",
              "    </tr>\n",
              "    <tr>\n",
              "      <th>StockCode</th>\n",
              "      <td>0</td>\n",
              "    </tr>\n",
              "    <tr>\n",
              "      <th>Description</th>\n",
              "      <td>1454</td>\n",
              "    </tr>\n",
              "    <tr>\n",
              "      <th>Quantity</th>\n",
              "      <td>0</td>\n",
              "    </tr>\n",
              "    <tr>\n",
              "      <th>InvoiceDate</th>\n",
              "      <td>0</td>\n",
              "    </tr>\n",
              "    <tr>\n",
              "      <th>UnitPrice</th>\n",
              "      <td>0</td>\n",
              "    </tr>\n",
              "    <tr>\n",
              "      <th>CustomerID</th>\n",
              "      <td>135080</td>\n",
              "    </tr>\n",
              "    <tr>\n",
              "      <th>Country</th>\n",
              "      <td>0</td>\n",
              "    </tr>\n",
              "  </tbody>\n",
              "</table>\n",
              "</div><br><label><b>dtype:</b> int64</label>"
            ]
          },
          "metadata": {},
          "execution_count": 4
        }
      ]
    },
    {
      "cell_type": "markdown",
      "source": [
        "## 1.2 Drop Missing Data  "
      ],
      "metadata": {
        "id": "nmhH2Qf0EGJw"
      }
    },
    {
      "cell_type": "code",
      "source": [
        "df = df.dropna(subset=['CustomerID'])"
      ],
      "metadata": {
        "id": "Cb8qPr57EKjR"
      },
      "execution_count": 5,
      "outputs": []
    },
    {
      "cell_type": "code",
      "source": [
        "df = df.dropna(subset=['Description'])"
      ],
      "metadata": {
        "id": "nmp4cDsZEKVs"
      },
      "execution_count": 6,
      "outputs": []
    },
    {
      "cell_type": "markdown",
      "source": [
        "### 1.2 Find the negative values or zero for quantity\n"
      ],
      "metadata": {
        "id": "KtNcPTyCEclY"
      }
    },
    {
      "cell_type": "code",
      "source": [
        "print(df [df['Quantity'] < 0])"
      ],
      "metadata": {
        "colab": {
          "base_uri": "https://localhost:8080/"
        },
        "id": "wYra6ATUEgVj",
        "outputId": "3db96d1e-dbca-4cc0-ae3c-633d851c2e2c"
      },
      "execution_count": 7,
      "outputs": [
        {
          "output_type": "stream",
          "name": "stdout",
          "text": [
            "       InvoiceNo StockCode                       Description  Quantity  \\\n",
            "141      C536379         D                          Discount        -1   \n",
            "154      C536383    35004C   SET OF 3 COLOURED  FLYING DUCKS        -1   \n",
            "235      C536391     22556    PLASTERS IN TIN CIRCUS PARADE        -12   \n",
            "236      C536391     21984  PACK OF 12 PINK PAISLEY TISSUES        -24   \n",
            "237      C536391     21983  PACK OF 12 BLUE PAISLEY TISSUES        -24   \n",
            "...          ...       ...                               ...       ...   \n",
            "540449   C581490     23144   ZINC T-LIGHT HOLDER STARS SMALL       -11   \n",
            "541541   C581499         M                            Manual        -1   \n",
            "541715   C581568     21258        VICTORIAN SEWING BOX LARGE        -5   \n",
            "541716   C581569     84978  HANGING HEART JAR T-LIGHT HOLDER        -1   \n",
            "541717   C581569     20979     36 PENCILS TUBE RED RETROSPOT        -5   \n",
            "\n",
            "            InvoiceDate  UnitPrice  CustomerID         Country  \n",
            "141      12/1/2010 9:41      27.50     14527.0  United Kingdom  \n",
            "154      12/1/2010 9:49       4.65     15311.0  United Kingdom  \n",
            "235     12/1/2010 10:24       1.65     17548.0  United Kingdom  \n",
            "236     12/1/2010 10:24       0.29     17548.0  United Kingdom  \n",
            "237     12/1/2010 10:24       0.29     17548.0  United Kingdom  \n",
            "...                 ...        ...         ...             ...  \n",
            "540449   12/9/2011 9:57       0.83     14397.0  United Kingdom  \n",
            "541541  12/9/2011 10:28     224.69     15498.0  United Kingdom  \n",
            "541715  12/9/2011 11:57      10.95     15311.0  United Kingdom  \n",
            "541716  12/9/2011 11:58       1.25     17315.0  United Kingdom  \n",
            "541717  12/9/2011 11:58       1.25     17315.0  United Kingdom  \n",
            "\n",
            "[8905 rows x 8 columns]\n"
          ]
        }
      ]
    },
    {
      "cell_type": "markdown",
      "source": [
        "### 1.3 Remove the negative or zero quantities"
      ],
      "metadata": {
        "id": "Z5JfhRb0ElF0"
      }
    },
    {
      "cell_type": "code",
      "source": [
        "df = df[df['Quantity'] > 0]"
      ],
      "metadata": {
        "id": "6Boa-SoOEoJQ"
      },
      "execution_count": 8,
      "outputs": []
    },
    {
      "cell_type": "markdown",
      "source": [
        "### 1.4 Detecting the Duplicate"
      ],
      "metadata": {
        "id": "PndSUDIlEzhx"
      }
    },
    {
      "cell_type": "code",
      "source": [
        "duplicates = df[df.duplicated()]\n",
        "print(\"Exact duplicates:\\n\", duplicates)\n"
      ],
      "metadata": {
        "colab": {
          "base_uri": "https://localhost:8080/"
        },
        "id": "68oYhLM9Ez6l",
        "outputId": "d925bb63-9701-4c78-8fc6-cbb9fb720b07"
      },
      "execution_count": 9,
      "outputs": [
        {
          "output_type": "stream",
          "name": "stdout",
          "text": [
            "Exact duplicates:\n",
            "        InvoiceNo StockCode                        Description  Quantity  \\\n",
            "517       536409     21866        UNION JACK FLAG LUGGAGE TAG         1   \n",
            "527       536409     22866      HAND WARMER SCOTTY DOG DESIGN         1   \n",
            "537       536409     22900    SET 2 TEA TOWELS I LOVE LONDON          1   \n",
            "539       536409     22111       SCOTTIE DOG HOT WATER BOTTLE         1   \n",
            "555       536412     22327  ROUND SNACK BOXES SET OF 4 SKULLS         1   \n",
            "...          ...       ...                                ...       ...   \n",
            "541675    581538     22068        BLACK PIRATE TREASURE CHEST         1   \n",
            "541689    581538     23318     BOX OF 6 MINI VINTAGE CRACKERS         1   \n",
            "541692    581538     22992             REVOLVER WOODEN RULER          1   \n",
            "541699    581538     22694                       WICKER STAR          1   \n",
            "541701    581538     23343       JUMBO BAG VINTAGE CHRISTMAS          1   \n",
            "\n",
            "            InvoiceDate  UnitPrice  CustomerID         Country  \n",
            "517     12/1/2010 11:45       1.25     17908.0  United Kingdom  \n",
            "527     12/1/2010 11:45       2.10     17908.0  United Kingdom  \n",
            "537     12/1/2010 11:45       2.95     17908.0  United Kingdom  \n",
            "539     12/1/2010 11:45       4.95     17908.0  United Kingdom  \n",
            "555     12/1/2010 11:49       2.95     17920.0  United Kingdom  \n",
            "...                 ...        ...         ...             ...  \n",
            "541675  12/9/2011 11:34       0.39     14446.0  United Kingdom  \n",
            "541689  12/9/2011 11:34       2.49     14446.0  United Kingdom  \n",
            "541692  12/9/2011 11:34       1.95     14446.0  United Kingdom  \n",
            "541699  12/9/2011 11:34       2.10     14446.0  United Kingdom  \n",
            "541701  12/9/2011 11:34       2.08     14446.0  United Kingdom  \n",
            "\n",
            "[5192 rows x 8 columns]\n"
          ]
        }
      ]
    },
    {
      "cell_type": "markdown",
      "source": [
        "### 1.5 Remove the duplicates"
      ],
      "metadata": {
        "id": "bwR6ZEgjE5_8"
      }
    },
    {
      "cell_type": "code",
      "source": [
        "df_cleaned = df.drop_duplicates()"
      ],
      "metadata": {
        "id": "oKZ1PwUGE-Fl"
      },
      "execution_count": 10,
      "outputs": []
    },
    {
      "cell_type": "markdown",
      "source": [
        "###### Detecting Noise"
      ],
      "metadata": {
        "id": "vvdzL5WZFHv1"
      }
    },
    {
      "cell_type": "markdown",
      "source": [
        "###### Noise can be:\n",
        "\n",
        "Outliers (extreme values)\n",
        "\n",
        "Incorrect labels\n",
        "\n",
        "Random errors or typos"
      ],
      "metadata": {
        "id": "v42T2gnVFJks"
      }
    },
    {
      "cell_type": "markdown",
      "source": [
        "###  Detect Outliers"
      ],
      "metadata": {
        "id": "H9eGBHFSFStN"
      }
    },
    {
      "cell_type": "code",
      "source": [
        "from scipy import stats\n",
        "import numpy as np\n",
        "\n",
        "# Z-score method\n",
        "z_scores = np.abs(stats.zscore(df.select_dtypes(include=[np.number])))\n",
        "outliers = (z_scores > 3).any(axis=1)\n",
        "\n",
        "print(\"Outlier rows:\\n\", outliers.sum())"
      ],
      "metadata": {
        "colab": {
          "base_uri": "https://localhost:8080/"
        },
        "id": "vOD5n8pNFVWd",
        "outputId": "43182ca4-e997-42ce-a233-1f6bea928916"
      },
      "execution_count": 11,
      "outputs": [
        {
          "output_type": "stream",
          "name": "stdout",
          "text": [
            "Outlier rows:\n",
            " 609\n"
          ]
        }
      ]
    },
    {
      "cell_type": "markdown",
      "source": [
        "\n",
        "\n",
        "#### Display the outliers"
      ],
      "metadata": {
        "id": "J9CDBcGOFi4h"
      }
    },
    {
      "cell_type": "code",
      "source": [
        "print(\"Outlier rows:\\n\",  df[outliers])"
      ],
      "metadata": {
        "colab": {
          "base_uri": "https://localhost:8080/"
        },
        "id": "0WX8SqajFn_A",
        "outputId": "edc9a000-6100-4371-d153-367b9949b2d2"
      },
      "execution_count": 12,
      "outputs": [
        {
          "output_type": "stream",
          "name": "stdout",
          "text": [
            "Outlier rows:\n",
            "        InvoiceNo StockCode                         Description  Quantity  \\\n",
            "246       536392     22827  RUSTIC  SEVENTEEN DRAWER SIDEBOARD         1   \n",
            "730       536437     17021              NAMASTE SWAGAT INCENSE       600   \n",
            "3790      536676     21769         VINTAGE POST OFFICE CABINET         1   \n",
            "3917      536736     22616          PACK OF 12 LONDON TISSUES        600   \n",
            "4850      536809     84950      ASSORTED COLOUR T-LIGHT HOLDER      1824   \n",
            "...          ...       ...                                 ...       ...   \n",
            "537883    581375     21137            BLACK RECORD COVER FRAME       960   \n",
            "540061    581457     23543                 WALL ART KEEP CALM        698   \n",
            "540070    581458     22197                      POPCORN HOLDER      1500   \n",
            "540071    581459     22197                      POPCORN HOLDER      1200   \n",
            "540421    581483     23843         PAPER CRAFT , LITTLE BIRDIE     80995   \n",
            "\n",
            "            InvoiceDate  UnitPrice  CustomerID         Country  \n",
            "246     12/1/2010 10:29     165.00     13705.0  United Kingdom  \n",
            "730     12/1/2010 12:12       0.24     13694.0  United Kingdom  \n",
            "3790    12/2/2010 12:18      79.95     16752.0  United Kingdom  \n",
            "3917    12/2/2010 12:59       0.29     17381.0  United Kingdom  \n",
            "4850    12/2/2010 16:48       0.55     15299.0  United Kingdom  \n",
            "...                 ...        ...         ...             ...  \n",
            "537883  12/8/2011 12:36       3.39     16210.0  United Kingdom  \n",
            "540061  12/8/2011 18:43       4.15     18102.0  United Kingdom  \n",
            "540070  12/8/2011 18:45       0.72     17949.0  United Kingdom  \n",
            "540071  12/8/2011 18:46       0.72     17949.0  United Kingdom  \n",
            "540421   12/9/2011 9:15       2.08     16446.0  United Kingdom  \n",
            "\n",
            "[609 rows x 8 columns]\n"
          ]
        }
      ]
    },
    {
      "cell_type": "markdown",
      "source": [
        "### Visualize Noise"
      ],
      "metadata": {
        "id": "VHmNacHXFtXY"
      }
    },
    {
      "cell_type": "code",
      "source": [
        "import seaborn as sns\n",
        "import matplotlib.pyplot as plt\n",
        "\n",
        "sns.boxplot(data=df.select_dtypes(include=[np.number]))\n",
        "plt.title(\"Boxplot to visualize outliers\")\n",
        "plt.show()\n"
      ],
      "metadata": {
        "colab": {
          "base_uri": "https://localhost:8080/",
          "height": 452
        },
        "id": "m2fH3M0lFxjA",
        "outputId": "34d1cf44-aed3-46d6-ea06-13717883a239"
      },
      "execution_count": 13,
      "outputs": [
        {
          "output_type": "display_data",
          "data": {
            "text/plain": [
              "<Figure size 640x480 with 1 Axes>"
            ],
            "image/png": "[encoded data removed]"
          },
          "metadata": {}
        }
      ]
    },
    {
      "cell_type": "markdown",
      "source": [
        "### --- Remove outliers using IQR\n"
      ],
      "metadata": {
        "id": "iRGiaeXHF2uZ"
      }
    },
    {
      "cell_type": "code",
      "source": [
        "Q1 = df.select_dtypes(include=np.number).quantile(0.25)\n",
        "Q3 = df.select_dtypes(include=np.number).quantile(0.75)\n",
        "IQR = Q3 - Q1\n",
        "\n",
        "df_no_outliers = df_cleaned[~((df_cleaned.select_dtypes(include=np.number) < (Q1 - 1.5 * IQR)) | (df_cleaned.select_dtypes(include=np.number) > (Q3 + 1.5 * IQR))).any(axis=1)]"
      ],
      "metadata": {
        "id": "rDS44sPWFx9q"
      },
      "execution_count": 14,
      "outputs": []
    }
  ]
}